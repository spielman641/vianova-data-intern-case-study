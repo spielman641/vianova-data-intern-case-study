{
  "cells": [
    {
      "cell_type": "code",
      "execution_count": 1,
      "metadata": {},
      "outputs": [],
      "source": [
        "import csv\n",
        "import pandas as pd \n",
        "import sqlite3"
      ]
    },
    {
      "attachments": {},
      "cell_type": "markdown",
      "metadata": {},
      "source": [
        "# Step 1 Download the dataset and save it using Curl."
      ]
    },
    {
      "cell_type": "code",
      "execution_count": 4,
      "metadata": {},
      "outputs": [
        {
          "name": "stdout",
          "output_type": "stream",
          "text": [
            "  % Total    % Received % Xferd  Average Speed   Time    Time     Time  Current\n",
            "                                 Dload  Upload   Total   Spent    Left  Speed\n",
            "100 25.8M    0 25.8M    0     0   901k      0 --:--:--  0:00:29 --:--:-- 1349k:--  842kk      0 --:--:--  0:00:26 --:--:-- 1092k\n"
          ]
        }
      ],
      "source": [
        "# Here I use the '-o' option to save the file with the name 'population.csv'\n",
        "!curl -o population.csv \"https://public.opendatasoft.com/api/explore/v2.1/catalog/datasets/geonames-all-cities-with-a-population-1000/exports/csv?lang=en&timezone=Europe%2FBerlin&use_labels=true&delimiter=%3B\""
      ]
    },
    {
      "attachments": {},
      "cell_type": "markdown",
      "metadata": {},
      "source": [
        "# Step 2 review the dataset\n"
      ]
    },
    {
      "cell_type": "code",
      "execution_count": 5,
      "metadata": {},
      "outputs": [
        {
          "name": "stdout",
          "output_type": "stream",
          "text": [
            "<class 'pandas.core.frame.DataFrame'>\n",
            "RangeIndex: 140938 entries, 0 to 140937\n",
            "Data columns (total 20 columns):\n",
            " #   Column                   Non-Null Count   Dtype  \n",
            "---  ------                   --------------   -----  \n",
            " 0   Geoname ID               140938 non-null  int64  \n",
            " 1   Name                     140937 non-null  object \n",
            " 2   ASCII Name               140936 non-null  object \n",
            " 3   Alternate Names          116605 non-null  object \n",
            " 4   Feature Class            140938 non-null  object \n",
            " 5   Feature Code             140938 non-null  object \n",
            " 6   Country Code             140893 non-null  object \n",
            " 7   Country name EN          140770 non-null  object \n",
            " 8   Country Code 2           81 non-null      object \n",
            " 9   Admin1 Code              140911 non-null  object \n",
            " 10  Admin2 Code              121928 non-null  object \n",
            " 11  Admin3 Code              68829 non-null   object \n",
            " 12  Admin4 Code              20569 non-null   object \n",
            " 13  Population               140938 non-null  int64  \n",
            " 14  Elevation                27653 non-null   float64\n",
            " 15  DIgital Elevation Model  140938 non-null  int64  \n",
            " 16  Timezone                 140938 non-null  object \n",
            " 17  Modification date        140938 non-null  object \n",
            " 18  LABEL EN                 140770 non-null  object \n",
            " 19  Coordinates              140938 non-null  object \n",
            "dtypes: float64(1), int64(3), object(16)\n",
            "memory usage: 21.5+ MB\n"
          ]
        }
      ],
      "source": [
        "# First we open the csv file using the sep parameter since the file is separated\n",
        "# by semicolon, not by comas\n",
        "df = pd.read_csv('population.csv', sep = ';')\n",
        "df.info()"
      ]
    },
    {
      "cell_type": "code",
      "execution_count": null,
      "metadata": {},
      "outputs": [],
      "source": [
        "# Since we are going to use SQLite and we can´t have spaces in the column names,\n",
        "# we are going to rename the columns, replacing the spaces whith underscore and \n",
        "# convert the names into lower case \n",
        "\n",
        "df.rename(columns=lambda x: x.lower().replace(' ', '-'), inplace=True)\n",
        "\n",
        "# \n"
      ]
    }
  ],
  "metadata": {
    "accelerator": "GPU",
    "colab": {
      "provenance": []
    },
    "kernelspec": {
      "display_name": "Python 3 (ipykernel)",
      "language": "python",
      "name": "python3"
    },
    "language_info": {
      "codemirror_mode": {
        "name": "ipython",
        "version": 3
      },
      "file_extension": ".py",
      "mimetype": "text/x-python",
      "name": "python",
      "nbconvert_exporter": "python",
      "pygments_lexer": "ipython3",
      "version": "3.10.0"
    }
  },
  "nbformat": 4,
  "nbformat_minor": 0
}
