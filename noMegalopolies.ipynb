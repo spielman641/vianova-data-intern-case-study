{
  "cells": [
    {
      "cell_type": "code",
      "execution_count": 1,
      "metadata": {},
      "outputs": [],
      "source": [
        "import csv\n",
        "import pandas as pd \n",
        "import sqlite3"
      ]
    },
    {
      "attachments": {},
      "cell_type": "markdown",
      "metadata": {},
      "source": [
        "# Step 1 Download the dataset and save it using Curl."
      ]
    },
    {
      "cell_type": "code",
      "execution_count": 46,
      "metadata": {},
      "outputs": [
        {
          "name": "stdout",
          "output_type": "stream",
          "text": [
            "  % Total    % Received % Xferd  Average Speed   Time    Time     Time  Current\n",
            "                                 Dload  Upload   Total   Spent    Left  Speed\n",
            "100 25.8M    0 25.8M    0     0   997k      0 --:--:--  0:00:26 --:--:--  856k0k      0 --:--:--  0:00:15 --:--:-- 1025k\n"
          ]
        }
      ],
      "source": [
        "# Here I use the '-o' option to save the file with the name 'population.csv'\n",
        "!curl -o population.csv \"https://public.opendatasoft.com/api/explore/v2.1/catalog/datasets/geonames-all-cities-with-a-population-1000/exports/csv?lang=en&timezone=Europe%2FBerlin&use_labels=true&delimiter=%3B\""
      ]
    },
    {
      "attachments": {},
      "cell_type": "markdown",
      "metadata": {},
      "source": [
        "# Step 2 review the dataset\n"
      ]
    },
    {
      "cell_type": "code",
      "execution_count": 2,
      "metadata": {},
      "outputs": [
        {
          "name": "stdout",
          "output_type": "stream",
          "text": [
            "<class 'pandas.core.frame.DataFrame'>\n",
            "RangeIndex: 140938 entries, 0 to 140937\n",
            "Data columns (total 20 columns):\n",
            " #   Column                   Non-Null Count   Dtype  \n",
            "---  ------                   --------------   -----  \n",
            " 0   Geoname ID               140938 non-null  int64  \n",
            " 1   Name                     140937 non-null  object \n",
            " 2   ASCII Name               140936 non-null  object \n",
            " 3   Alternate Names          116605 non-null  object \n",
            " 4   Feature Class            140938 non-null  object \n",
            " 5   Feature Code             140938 non-null  object \n",
            " 6   Country Code             140893 non-null  object \n",
            " 7   Country name EN          140770 non-null  object \n",
            " 8   Country Code 2           81 non-null      object \n",
            " 9   Admin1 Code              140911 non-null  object \n",
            " 10  Admin2 Code              121928 non-null  object \n",
            " 11  Admin3 Code              68829 non-null   object \n",
            " 12  Admin4 Code              20569 non-null   object \n",
            " 13  Population               140938 non-null  int64  \n",
            " 14  Elevation                27653 non-null   float64\n",
            " 15  DIgital Elevation Model  140938 non-null  int64  \n",
            " 16  Timezone                 140938 non-null  object \n",
            " 17  Modification date        140938 non-null  object \n",
            " 18  LABEL EN                 140770 non-null  object \n",
            " 19  Coordinates              140938 non-null  object \n",
            "dtypes: float64(1), int64(3), object(16)\n",
            "memory usage: 21.5+ MB\n"
          ]
        }
      ],
      "source": [
        "# First we open the csv file using the sep parameter since the file is separated\n",
        "# by semicolon, not by comas\n",
        "df = pd.read_csv('population.csv', sep = ';')\n",
        "df.info()"
      ]
    },
    {
      "cell_type": "code",
      "execution_count": 3,
      "metadata": {},
      "outputs": [],
      "source": [
        "# Since we are going to use SQLite and we can´t have spaces in the column names,\n",
        "# we are going to rename the columns, replacing the spaces whith underscore and \n",
        "# convert the names into lower case \n",
        "\n",
        "df.rename(columns=lambda x: x.lower().replace(' ', '_'), inplace=True)\n",
        "\n",
        "# "
      ]
    },
    {
      "attachments": {},
      "cell_type": "markdown",
      "metadata": {},
      "source": [
        "# Step 3 Create the DataBase\n"
      ]
    },
    {
      "cell_type": "code",
      "execution_count": 4,
      "metadata": {},
      "outputs": [
        {
          "data": {
            "text/html": [
              "<div>\n",
              "<style scoped>\n",
              "    .dataframe tbody tr th:only-of-type {\n",
              "        vertical-align: middle;\n",
              "    }\n",
              "\n",
              "    .dataframe tbody tr th {\n",
              "        vertical-align: top;\n",
              "    }\n",
              "\n",
              "    .dataframe thead th {\n",
              "        text-align: right;\n",
              "    }\n",
              "</style>\n",
              "<table border=\"1\" class=\"dataframe\">\n",
              "  <thead>\n",
              "    <tr style=\"text-align: right;\">\n",
              "      <th></th>\n",
              "      <th>column_name</th>\n",
              "      <th>type</th>\n",
              "    </tr>\n",
              "  </thead>\n",
              "  <tbody>\n",
              "    <tr>\n",
              "      <th>0</th>\n",
              "      <td>geoname_id</td>\n",
              "      <td>INTEGER</td>\n",
              "    </tr>\n",
              "    <tr>\n",
              "      <th>1</th>\n",
              "      <td>name</td>\n",
              "      <td>TEXT</td>\n",
              "    </tr>\n",
              "    <tr>\n",
              "      <th>2</th>\n",
              "      <td>ascii_name</td>\n",
              "      <td>TEXT</td>\n",
              "    </tr>\n",
              "    <tr>\n",
              "      <th>3</th>\n",
              "      <td>alternate_names</td>\n",
              "      <td>TEXT</td>\n",
              "    </tr>\n",
              "    <tr>\n",
              "      <th>4</th>\n",
              "      <td>feature_class</td>\n",
              "      <td>TEXT</td>\n",
              "    </tr>\n",
              "    <tr>\n",
              "      <th>5</th>\n",
              "      <td>feature_code</td>\n",
              "      <td>TEXT</td>\n",
              "    </tr>\n",
              "    <tr>\n",
              "      <th>6</th>\n",
              "      <td>country_code</td>\n",
              "      <td>TEXT</td>\n",
              "    </tr>\n",
              "    <tr>\n",
              "      <th>7</th>\n",
              "      <td>country_name_en</td>\n",
              "      <td>TEXT</td>\n",
              "    </tr>\n",
              "    <tr>\n",
              "      <th>8</th>\n",
              "      <td>country_code_2</td>\n",
              "      <td>TEXT</td>\n",
              "    </tr>\n",
              "    <tr>\n",
              "      <th>9</th>\n",
              "      <td>admin1_code</td>\n",
              "      <td>TEXT</td>\n",
              "    </tr>\n",
              "    <tr>\n",
              "      <th>10</th>\n",
              "      <td>admin2_code</td>\n",
              "      <td>TEXT</td>\n",
              "    </tr>\n",
              "    <tr>\n",
              "      <th>11</th>\n",
              "      <td>admin3_code</td>\n",
              "      <td>TEXT</td>\n",
              "    </tr>\n",
              "    <tr>\n",
              "      <th>12</th>\n",
              "      <td>admin4_code</td>\n",
              "      <td>TEXT</td>\n",
              "    </tr>\n",
              "    <tr>\n",
              "      <th>13</th>\n",
              "      <td>population</td>\n",
              "      <td>INTEGER</td>\n",
              "    </tr>\n",
              "    <tr>\n",
              "      <th>14</th>\n",
              "      <td>elevation</td>\n",
              "      <td>REAL</td>\n",
              "    </tr>\n",
              "    <tr>\n",
              "      <th>15</th>\n",
              "      <td>digital_elevation_model</td>\n",
              "      <td>INTEGER</td>\n",
              "    </tr>\n",
              "    <tr>\n",
              "      <th>16</th>\n",
              "      <td>timezone</td>\n",
              "      <td>TEXT</td>\n",
              "    </tr>\n",
              "    <tr>\n",
              "      <th>17</th>\n",
              "      <td>modification_date</td>\n",
              "      <td>TEXT</td>\n",
              "    </tr>\n",
              "    <tr>\n",
              "      <th>18</th>\n",
              "      <td>label_en</td>\n",
              "      <td>TEXT</td>\n",
              "    </tr>\n",
              "    <tr>\n",
              "      <th>19</th>\n",
              "      <td>coordinates</td>\n",
              "      <td>TEXT</td>\n",
              "    </tr>\n",
              "  </tbody>\n",
              "</table>\n",
              "</div>"
            ],
            "text/plain": [
              "                column_name     type\n",
              "0                geoname_id  INTEGER\n",
              "1                      name     TEXT\n",
              "2                ascii_name     TEXT\n",
              "3           alternate_names     TEXT\n",
              "4             feature_class     TEXT\n",
              "5              feature_code     TEXT\n",
              "6              country_code     TEXT\n",
              "7           country_name_en     TEXT\n",
              "8            country_code_2     TEXT\n",
              "9               admin1_code     TEXT\n",
              "10              admin2_code     TEXT\n",
              "11              admin3_code     TEXT\n",
              "12              admin4_code     TEXT\n",
              "13               population  INTEGER\n",
              "14                elevation     REAL\n",
              "15  digital_elevation_model  INTEGER\n",
              "16                 timezone     TEXT\n",
              "17        modification_date     TEXT\n",
              "18                 label_en     TEXT\n",
              "19              coordinates     TEXT"
            ]
          },
          "execution_count": 4,
          "metadata": {},
          "output_type": "execute_result"
        }
      ],
      "source": [
        "# For the creating the data base we need the name of the desire columns with their \n",
        "# respective data type. So I'm going to change the strings in the next dataframe \n",
        "# in order to have the respective datatypes for SQLite\n",
        "\n",
        "df_types = pd.DataFrame(df.dtypes).reset_index().rename(columns= {'index':'column_name',0: 'type'})\n",
        "dtype_mapping = {\n",
        "    'object': 'TEXT',\n",
        "    'int64': 'INTEGER',\n",
        "    'float64': 'REAL'\n",
        "}\n",
        "\n",
        "# Convert the column data types using replace()\n",
        "df_types['type'] = df_types['type'].replace(dtype_mapping)\n",
        "\n",
        "df_types\n",
        "\n"
      ]
    },
    {
      "cell_type": "code",
      "execution_count": 17,
      "metadata": {},
      "outputs": [
        {
          "data": {
            "text/plain": [
              "<sqlite3.Cursor at 0x15cc775c0>"
            ]
          },
          "execution_count": 17,
          "metadata": {},
          "output_type": "execute_result"
        }
      ],
      "source": [
        "# Now we are going to write the query to create the db \n",
        "\n",
        "columns = ', '.join([f\"{column} {data_type}\" for column, data_type in\n",
        "                      zip(df_types['column_name'], df_types['type'])])\n",
        "\n",
        "\n",
        "conn = sqlite3.connect('geonames.db')\n",
        "cursor = conn.cursor()\n",
        "\n",
        "# Create a table in the database\n",
        "cursor.execute('CREATE TABLE IF NOT EXISTS countries ({})'.format(columns))\n",
        "\n",
        "\n"
      ]
    },
    {
      "attachments": {},
      "cell_type": "markdown",
      "metadata": {},
      "source": [
        "# Step 4 insert the data into the table countries"
      ]
    },
    {
      "cell_type": "code",
      "execution_count": 18,
      "metadata": {},
      "outputs": [
        {
          "data": {
            "text/plain": [
              "140938"
            ]
          },
          "execution_count": 18,
          "metadata": {},
          "output_type": "execute_result"
        }
      ],
      "source": [
        "df.to_sql('countries', conn, if_exists='replace', index=False)\n"
      ]
    },
    {
      "attachments": {},
      "cell_type": "markdown",
      "metadata": {},
      "source": [
        "# Step 4 Retrieve the countries whithout megalopolies"
      ]
    },
    {
      "cell_type": "code",
      "execution_count": 19,
      "metadata": {},
      "outputs": [],
      "source": [
        "# Execute the SQL query to find countries without cities with more than 10 million inhabitants\n",
        "query = '''\n",
        "    SELECT DISTINCT `country_name_en`\n",
        "    FROM countries\n",
        "    WHERE `country_name_en` NOT IN (\n",
        "        SELECT DISTINCT `country_name_en`\n",
        "        FROM countries\n",
        "        WHERE Population > 10000000\n",
        "    )\n",
        "'''\n",
        "\n",
        "# Fetch the results of the query\n",
        "cursor = conn.execute(query)\n",
        "results = cursor.fetchall()\n",
        "\n",
        "# Close the database connection\n",
        "conn.close()\n",
        "\n"
      ]
    },
    {
      "attachments": {},
      "cell_type": "markdown",
      "metadata": {},
      "source": [
        "# Step 6: Save the query result as a tab-separated value (TSV) file\n"
      ]
    },
    {
      "cell_type": "code",
      "execution_count": 21,
      "metadata": {},
      "outputs": [
        {
          "name": "stdout",
          "output_type": "stream",
          "text": [
            "Result saved in countries_without_megapolis.tsv\n"
          ]
        }
      ],
      "source": [
        "output_file = 'countries_without_megapolis.tsv'\n",
        "with open(output_file, 'w', encoding='utf-8', newline='') as file:\n",
        "    writer = csv.writer(file, delimiter='\\t')\n",
        "    writer.writerow(['Country Name'])\n",
        "    writer.writerows(results)\n",
        "\n",
        "print(f\"Result saved in {output_file}\")"
      ]
    },
    {
      "attachments": {},
      "cell_type": "markdown",
      "metadata": {},
      "source": [
        "### Just check how many countries doesn't have a megalopolies"
      ]
    },
    {
      "cell_type": "code",
      "execution_count": 24,
      "metadata": {},
      "outputs": [
        {
          "data": {
            "text/html": [
              "<div>\n",
              "<style scoped>\n",
              "    .dataframe tbody tr th:only-of-type {\n",
              "        vertical-align: middle;\n",
              "    }\n",
              "\n",
              "    .dataframe tbody tr th {\n",
              "        vertical-align: top;\n",
              "    }\n",
              "\n",
              "    .dataframe thead th {\n",
              "        text-align: right;\n",
              "    }\n",
              "</style>\n",
              "<table border=\"1\" class=\"dataframe\">\n",
              "  <thead>\n",
              "    <tr style=\"text-align: right;\">\n",
              "      <th></th>\n",
              "      <th>Country Name</th>\n",
              "    </tr>\n",
              "  </thead>\n",
              "  <tbody>\n",
              "    <tr>\n",
              "      <th>0</th>\n",
              "      <td>Saudi Arabia</td>\n",
              "    </tr>\n",
              "    <tr>\n",
              "      <th>1</th>\n",
              "      <td>Seychelles</td>\n",
              "    </tr>\n",
              "    <tr>\n",
              "      <th>2</th>\n",
              "      <td>Sudan, The Republic of</td>\n",
              "    </tr>\n",
              "    <tr>\n",
              "      <th>3</th>\n",
              "      <td>Sweden</td>\n",
              "    </tr>\n",
              "    <tr>\n",
              "      <th>4</th>\n",
              "      <td>Singapore</td>\n",
              "    </tr>\n",
              "    <tr>\n",
              "      <th>...</th>\n",
              "      <td>...</td>\n",
              "    </tr>\n",
              "    <tr>\n",
              "      <th>214</th>\n",
              "      <td>Northern Mariana Islands</td>\n",
              "    </tr>\n",
              "    <tr>\n",
              "      <th>215</th>\n",
              "      <td>Western Sahara</td>\n",
              "    </tr>\n",
              "    <tr>\n",
              "      <th>216</th>\n",
              "      <td>Niue</td>\n",
              "    </tr>\n",
              "    <tr>\n",
              "      <th>217</th>\n",
              "      <td>Turks and Caicos Islands</td>\n",
              "    </tr>\n",
              "    <tr>\n",
              "      <th>218</th>\n",
              "      <td>Macau, China</td>\n",
              "    </tr>\n",
              "  </tbody>\n",
              "</table>\n",
              "<p>219 rows × 1 columns</p>\n",
              "</div>"
            ],
            "text/plain": [
              "                 Country Name\n",
              "0                Saudi Arabia\n",
              "1                  Seychelles\n",
              "2      Sudan, The Republic of\n",
              "3                      Sweden\n",
              "4                   Singapore\n",
              "..                        ...\n",
              "214  Northern Mariana Islands\n",
              "215            Western Sahara\n",
              "216                      Niue\n",
              "217  Turks and Caicos Islands\n",
              "218              Macau, China\n",
              "\n",
              "[219 rows x 1 columns]"
            ]
          },
          "execution_count": 24,
          "metadata": {},
          "output_type": "execute_result"
        }
      ],
      "source": [
        "no_megalopolies = pd.read_csv('countries_without_megapolis.tsv', sep='\\t')\n",
        "no_megalopolies"
      ]
    },
    {
      "attachments": {},
      "cell_type": "markdown",
      "metadata": {},
      "source": []
    },
    {
      "cell_type": "code",
      "execution_count": 40,
      "metadata": {},
      "outputs": [
        {
          "name": "stdout",
          "output_type": "stream",
          "text": [
            "219 countries doesn't have a megalopoly\n"
          ]
        }
      ],
      "source": [
        "print(f\"{len(no_megalopolies['Country Name'])} countries doesn't have a megalopoly\")"
      ]
    },
    {
      "cell_type": "code",
      "execution_count": null,
      "metadata": {},
      "outputs": [],
      "source": []
    }
  ],
  "metadata": {
    "accelerator": "GPU",
    "colab": {
      "provenance": []
    },
    "kernelspec": {
      "display_name": "Python 3 (ipykernel)",
      "language": "python",
      "name": "python3"
    },
    "language_info": {
      "codemirror_mode": {
        "name": "ipython",
        "version": 3
      },
      "file_extension": ".py",
      "mimetype": "text/x-python",
      "name": "python",
      "nbconvert_exporter": "python",
      "pygments_lexer": "ipython3",
      "version": "3.10.0"
    }
  },
  "nbformat": 4,
  "nbformat_minor": 0
}
